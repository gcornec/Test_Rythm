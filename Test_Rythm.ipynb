{
 "cells": [
  {
   "cell_type": "code",
   "execution_count": 1,
   "metadata": {},
   "outputs": [
    {
     "name": "stdout",
     "output_type": "stream",
     "text": [
      "Populating the interactive namespace from numpy and matplotlib\n"
     ]
    }
   ],
   "source": [
    "%pylab inline\n",
    "import pandas as pd\n",
    "import urllib\n",
    "import matplotlib.pyplot as plt\n",
    "import time\n",
    "import random\n",
    "import h5py\n",
    "import numpy as np\n",
    "\n",
    "from sklearn import ensemble\n",
    "from sklearn import metrics\n",
    "from sklearn.metrics import confusion_matrix\n",
    "from sklearn import preprocessing\n",
    "\n",
    "plt.style.use('bmh')"
   ]
  },
  {
   "cell_type": "markdown",
   "metadata": {},
   "source": [
    "## Fonctions intermédiaires"
   ]
  },
  {
   "cell_type": "code",
   "execution_count": 2,
   "metadata": {
    "collapsed": true
   },
   "outputs": [],
   "source": [
    "#Foncion pour avoir la répartition des classes de label dans les données d'apprentissage\n",
    "def proportion_classe(y_train):\n",
    "    return len(y_train[y_train[\"label\"]==0])/len(y_train), len(y_train[y_train[\"label\"]==1])/len(y_train), len(y_train[y_train[\"label\"]==2])/len(y_train), len(y_train[y_train[\"label\"]==3])/len(y_train),len(y_train[y_train[\"label\"]==4])/len(y_train)"
   ]
  },
  {
   "cell_type": "code",
   "execution_count": 3,
   "metadata": {
    "collapsed": true
   },
   "outputs": [],
   "source": [
    "#Fonction pour récupérer des données à partir d'un fichier h5, d'un nom de base et d'une liste de label\n",
    "#On peut choisir de normaliser ou non ces données\n",
    "def base_recup_key(fichier,key,output_train,normalize=False):\n",
    "    \n",
    "    h5 = h5py.File(fichier, \"r\")\n",
    "    \n",
    "    if normalize==True:\n",
    "        min_max_scaler = preprocessing.MinMaxScaler()\n",
    "        inputs=pd.DataFrame(min_max_scaler.fit_transform(h5[key][:]))\n",
    "    else:\n",
    "        inputs=pd.DataFrame(h5[key][:])\n",
    "    \n",
    "    if fichier==\"train.h5\":\n",
    "        return pd.concat([inputs,output_train[\"label\"]],axis=1)\n",
    "    else:\n",
    "        return inputs"
   ]
  },
  {
   "cell_type": "code",
   "execution_count": 4,
   "metadata": {
    "collapsed": true
   },
   "outputs": [],
   "source": [
    "#Fonction pour avoir un score de précision classique à partir d'une matrice de confusion \n",
    "#et de l'échantillon de test\n",
    "#Penser à mettre le score de Cohen Kappa\n",
    "def score(cm,y_test_1):\n",
    "    score=0\n",
    "    for i in range(len(cm)):\n",
    "        for j in range(len(cm)):\n",
    "            if i!=j:\n",
    "                score+=cm[i,j]\n",
    "    return 1-score/len(y_test_1)"
   ]
  },
  {
   "cell_type": "code",
   "execution_count": 21,
   "metadata": {
    "collapsed": true
   },
   "outputs": [],
   "source": [
    "#Fonction pour faire une prédiction à partir d'un RFC sur une base et qui récupère les variables les plus \n",
    "#importantes dans la prédiction (paramètre à choisir)\n",
    "#on met 200 arbres dans la forêt et 2 observations minimales par noeud\n",
    "def var_importante(base,prop_train,nb_var):\n",
    "    \n",
    "    base_train=base[:int(len(base)*prop_train)]\n",
    "    base_test=base[int(len(base)*prop_train):]\n",
    "    #print(\"train\",proportion_classe(base_train))\n",
    "    #print(\"test\",proportion_classe(base_test))\n",
    "    \n",
    "    X_train=base_train.drop(\"label\",axis=1)\n",
    "    X_test=base_test.drop(\"label\",axis=1)\n",
    "    y_train=base_train[\"label\"]\n",
    "    y_test=base_test[\"label\"]\n",
    "    #print(np.shape(X_train),np.shape(X_test),np.shape(y_train),np.shape(y_test))\n",
    "\n",
    "    modele=ensemble.RandomForestClassifier(n_estimators=200,min_samples_leaf=2,n_jobs=2)\n",
    "    modele.fit(X_train,y_train)\n",
    "    y_pred=modele.predict(X_test)\n",
    "    cm=confusion_matrix(y_test,y_pred)\n",
    "    #print(cm)\n",
    "    \n",
    "    #importance des variables \n",
    "    feature_importance = modele.feature_importances_\n",
    "    sorted_idx = np.argsort(feature_importance)[-nb_var:]\n",
    "    print(\"score\",score(cm,y_test))\n",
    "\n",
    "    return score(cm,y_test), modele ,sorted_idx"
   ]
  },
  {
   "cell_type": "code",
   "execution_count": 6,
   "metadata": {
    "collapsed": true
   },
   "outputs": [],
   "source": [
    "#Récupération des bases complète d'apprentissage et de test, réduites aux variables les plus importantes\n",
    "#grâce à la fonction précédente \n",
    "def construction_bases(list_keys,pourcentage_var,nb_obs,output_train):\n",
    "    dic_base_train={}\n",
    "    dic_base_test={}\n",
    "    \n",
    "    for k in list_keys:\n",
    "        print(k)\n",
    "    \n",
    "        b_train=base_recup_key(\"train.h5\",k,output_train)\n",
    "        v_i=var_importante(b_train[:nb_obs],0.75,int(pourcentage_var*np.shape(b_train)[1]))\n",
    "    \n",
    "        dic_base_train[k]=b_train.iloc[:,v_i[2]]\n",
    "        dic_base_test[k]=base_recup_key(\"test.h5\",k,output_train).iloc[:,v_i[2]]\n",
    "\n",
    "    base_train=pd.concat([dic_base_train[k] for k in list_keys],axis=1,ignore_index=True)\n",
    "    base_test=pd.concat([dic_base_test[k] for k in list_keys],axis=1,ignore_index=True)\n",
    "    \n",
    "    return pd.concat([base_train,output_train[\"label\"]],axis=1), base_test"
   ]
  },
  {
   "cell_type": "code",
   "execution_count": 7,
   "metadata": {
    "collapsed": true
   },
   "outputs": [],
   "source": [
    "#On associe à chaque base de test sa base de train correspondante\n",
    "def CV(base,nb_CV):\n",
    "            \n",
    "    nb=int(len(base)/nb_CV)\n",
    "    separ_test=[base[i*nb:(i+1)*nb] for i in range (nb_CV)]\n",
    "\n",
    "    separ_train=[]\n",
    "    list_train=[[] for p in range(nb_CV)]\n",
    "    for i in range(nb_CV):\n",
    "        l=[j for j in range(nb_CV)]\n",
    "        l.remove(i)\n",
    "        for p in l:\n",
    "            list_train[i].append(separ_test[p])\n",
    "        separ_train.append(pd.concat(list_train[i]))\n",
    "        \n",
    "    return (separ_train,separ_test)"
   ]
  },
  {
   "cell_type": "code",
   "execution_count": 19,
   "metadata": {
    "collapsed": true
   },
   "outputs": [],
   "source": [
    "def choix_estimateur(modele, bases_CV,nb_CV, param_1,param_2):\n",
    "    l_res={}\n",
    "    for i in param_1:\n",
    "        l_res[i]={}\n",
    "        for j in param_2:\n",
    "            l_res[i][j]=[]\n",
    "    for i in range(nb_CV):\n",
    "        #print(i)\n",
    "        X_train=bases_CV[0][i].drop(\"label\",axis=1)\n",
    "        y_train=bases_CV[0][i][\"label\"]\n",
    "        X_test=bases_CV[1][i].drop(\"label\",axis=1)\n",
    "        y_test=bases_CV[1][i][\"label\"]\n",
    "        #print(np.shape(X_train),np.shape(X_test),np.shape(y_train),np.shape(y_test))\n",
    "\n",
    "        for j in param_1:\n",
    "            #print(\"min_leaf\",j)\n",
    "            for p in param_2:\n",
    "                #print(\"arbres\",p)\n",
    "                \n",
    "                mod=modele(n_estimators=p,min_samples_leaf=j,n_jobs=2)\n",
    "                    \n",
    "                #t2=time.time()    \n",
    "                mod.fit(X_train,y_train)\n",
    "                y_pred=mod.predict(X_test)\n",
    "                #t3=time.time()\n",
    "                #print(t3-t2)\n",
    "                cm=confusion_matrix(y_test,y_pred)\n",
    "                #print(cm)\n",
    "                l_res[j][p].append(score(cm,y_test))\n",
    "    return l_res"
   ]
  },
  {
   "cell_type": "markdown",
   "metadata": {},
   "source": [
    "## Etude préalable"
   ]
  },
  {
   "cell_type": "code",
   "execution_count": 9,
   "metadata": {
    "collapsed": true
   },
   "outputs": [],
   "source": [
    "#Récupération de y_train\n",
    "output_train=pd.read_csv(\"output_training.csv\", sep=\";\")"
   ]
  },
  {
   "cell_type": "code",
   "execution_count": 10,
   "metadata": {},
   "outputs": [
    {
     "data": {
      "text/plain": [
       "(0.11268537531371207,\n",
       " 0.031006160164271046,\n",
       " 0.36821811544604155,\n",
       " 0.31439653205566964,\n",
       " 0.17369381702030573)"
      ]
     },
     "execution_count": 10,
     "metadata": {},
     "output_type": "execute_result"
    }
   ],
   "source": [
    "#il y a 11.2% de cycle 0; 3.1% de cycle 1; 36.8% de cycle 2; 31.4% de cycle 3 et 17.4% de cycle 4\n",
    "proportion_classe(output_train)"
   ]
  },
  {
   "cell_type": "markdown",
   "metadata": {},
   "source": [
    "Test de récupération de la base eeg_1."
   ]
  },
  {
   "cell_type": "code",
   "execution_count": 11,
   "metadata": {},
   "outputs": [
    {
     "name": "stdout",
     "output_type": "stream",
     "text": [
      "4.968879699707031\n"
     ]
    }
   ],
   "source": [
    "#5s pour récupérer 43 000 * 3751 data\n",
    "t0=time.time()\n",
    "eeg_1=base_recup_key(\"train.h5\",\"eeg_1\",output_train)\n",
    "t1=time.time()\n",
    "print(t1-t0)"
   ]
  },
  {
   "cell_type": "code",
   "execution_count": 12,
   "metadata": {},
   "outputs": [
    {
     "name": "stdout",
     "output_type": "stream",
     "text": [
      "score 0.532\n",
      "2.1737749576568604\n"
     ]
    }
   ],
   "source": [
    "t0=time.time()\n",
    "s_1=var_importante(eeg_1[:1000],0.75,100)\n",
    "t1=time.time()\n",
    "print(t1-t0)"
   ]
  },
  {
   "cell_type": "markdown",
   "metadata": {},
   "source": [
    "On regarde les 20 variables les plus importantes dans la prédiction du RFC sur la base eeg_1"
   ]
  },
  {
   "cell_type": "code",
   "execution_count": 13,
   "metadata": {},
   "outputs": [
    {
     "data": {
      "text/plain": [
       "Text(0.5,1,'Variable Importance')"
      ]
     },
     "execution_count": 13,
     "metadata": {},
     "output_type": "execute_result"
    },
    {
     "data": {
      "image/png": "[encoded data removed]",
      "text/plain": [
       "<matplotlib.figure.Figure at 0x111964320>"
      ]
     },
     "metadata": {},
     "output_type": "display_data"
    }
   ],
   "source": [
    "feature_name = eeg_1.columns\n",
    "limit = 20\n",
    "feature_importance = s_1[1].feature_importances_[:]\n",
    "feature_importance = 100.0 * (feature_importance / feature_importance.max())\n",
    "sorted_idx = np.argsort(feature_importance)[-limit:]\n",
    "pos = np.arange(sorted_idx.shape[0]) + .5\n",
    "plt.subplot(1, 1, 1)\n",
    "plt.barh(pos, feature_importance[sorted_idx], align='center')\n",
    "plt.yticks(pos, feature_name[sorted_idx])\n",
    "plt.xlabel('Relative Importance')\n",
    "plt.title('Variable Importance')"
   ]
  },
  {
   "cell_type": "markdown",
   "metadata": {},
   "source": [
    "## Construction des bases d'apprentissage et de test"
   ]
  },
  {
   "cell_type": "markdown",
   "metadata": {},
   "source": [
    "But: construire une base regroupant les 10% des variables les plus importantes pour la prédiction."
   ]
  },
  {
   "cell_type": "markdown",
   "metadata": {},
   "source": [
    "En effet, j'aurais bien chargé l'ensemble des données sur mon ordinateur mais l'import des données de test et des données de train me prend plus que mes 8 Go de RAM, c'est pour ça que j'ai commencé par réduire le nombre de variables à considérer"
   ]
  },
  {
   "cell_type": "code",
   "execution_count": 15,
   "metadata": {
    "collapsed": true
   },
   "outputs": [],
   "source": [
    "list_keys=['eeg_1', 'eeg_2', 'eeg_3', 'eeg_4', 'po_ir', 'po_r', 'accelerometer_x', 'accelerometer_y', 'accelerometer_z']"
   ]
  },
  {
   "cell_type": "code",
   "execution_count": 16,
   "metadata": {},
   "outputs": [
    {
     "name": "stdout",
     "output_type": "stream",
     "text": [
      "eeg_1\n",
      "score 0.6008\n",
      "eeg_2\n",
      "score 0.5732\n",
      "eeg_3\n",
      "score 0.4248\n",
      "eeg_4\n",
      "score 0.4524\n",
      "po_ir\n",
      "score 0.3516\n",
      "po_r\n",
      "score 0.348\n",
      "accelerometer_x\n",
      "score 0.3944\n",
      "accelerometer_y\n",
      "score 0.3932\n",
      "accelerometer_z\n",
      "score 0.4264\n",
      "556.2314908504486\n"
     ]
    }
   ],
   "source": [
    "#on garde 10% des meilleures variables de la prédiction sur chaque dataset \n",
    "pourcentage_var=0.2\n",
    "#on fixe le nombre d'observation que l'on utilisera pour faire tourner notre modèle basique sur les sous bases\n",
    "nb_obs=10000\n",
    "t0=time.time()\n",
    "base_train, base_test=construction_bases(list_keys,pourcentage_var,nb_obs,output_train)\n",
    "t1=time.time()\n",
    "print(t1-t0)"
   ]
  },
  {
   "cell_type": "markdown",
   "metadata": {},
   "source": [
    "Il semblerait que les bases eeg permettent de mieux détecter les cycles du sommeil que les autres bases. Ceci dit, nous n'avons pris que 10 000 observations pour entrainer un modèle basique, et il s'agissait des 10 000 premières ... \n",
    "De plus, les bases eeg contiennent 3 fois plus de variables que les autres bases donc la meilleure précision peut s'expliquer par ça "
   ]
  },
  {
   "cell_type": "code",
   "execution_count": 17,
   "metadata": {},
   "outputs": [
    {
     "name": "stdout",
     "output_type": "stream",
     "text": [
      "(43830, 4501) (20592, 4500)\n"
     ]
    }
   ],
   "source": [
    "print(np.shape(base_train),np.shape(base_test))"
   ]
  },
  {
   "cell_type": "markdown",
   "metadata": {},
   "source": [
    "## Cross validation sur les données d'apprentissage"
   ]
  },
  {
   "cell_type": "code",
   "execution_count": 20,
   "metadata": {
    "scrolled": true
   },
   "outputs": [
    {
     "name": "stdout",
     "output_type": "stream",
     "text": [
      "5561.840124845505\n"
     ]
    }
   ],
   "source": [
    "#on est sur 5000 obs et 2250 variables et on fait une CV sur 5 sous-bases\n",
    "nb_CV=5\n",
    "nb_obs=10000\n",
    "nb_tree=[20,50,100,200,400]\n",
    "min_leaf=[1,3,6,10]\n",
    "#on choisit aléatoirement les observations de la base qui servira pour la Cross Validation\n",
    "base_CV=base_train.iloc[random.sample([i for i in range(len(base_train))],nb_obs),:].reset_index().drop([\"index\"],axis=1)\n",
    "t0=time.time()\n",
    "est_RFC=choix_estimateur(ensemble.RandomForestClassifier,CV(base_CV,nb_CV),nb_CV,min_leaf,nb_tree)\n",
    "t1=time.time()\n",
    "print(t1-t0)\n"
   ]
  },
  {
   "cell_type": "markdown",
   "metadata": {},
   "source": [
    "On regarde de manière graphique l'influence des hyperparamètres sur la précision et la variance des prédictions"
   ]
  },
  {
   "cell_type": "code",
   "execution_count": 24,
   "metadata": {},
   "outputs": [
    {
     "data": {
      "text/plain": [
       "<matplotlib.legend.Legend at 0x1a15210e80>"
      ]
     },
     "execution_count": 24,
     "metadata": {},
     "output_type": "execute_result"
    },
    {
     "data": {
      "image/png": "[encoded data removed]",
      "text/plain": [
       "<matplotlib.figure.Figure at 0x1a14b92470>"
      ]
     },
     "metadata": {},
     "output_type": "display_data"
    }
   ],
   "source": [
    "fig, (ax1, ax2) = plt.subplots(1,2,figsize=(12, 5))\n",
    "\n",
    "colors=[\"red\",\"green\",\"blue\",\"orange\",\"purple\",\"yellow\"]\n",
    "\n",
    "for j in range(len(min_leaf)):\n",
    "    ax1.plot([i for i in nb_tree],[1-np.mean(est_RFC[min_leaf[j]][i]) for i in nb_tree],color=colors[j],label=\"taux d'erreur min leaf\"+str(min_leaf[j]))\n",
    "    ax2.plot([i for i in nb_tree],[np.std(est_RFC[min_leaf[j]][i]) for i in nb_tree],color=colors[j],label=\"variance des erreurs min leaf\"+str(min_leaf[j]))\n",
    "\n",
    "\n",
    "ax1.set_title(\"erreur RFC\")\n",
    "ax1.set_ylim(0.35,0.45)\n",
    "ax1.set_xlabel(\"nombre d'arbres\")\n",
    "ax1.set_ylabel(\"erreur\")\n",
    "ax1.legend(loc=0)\n",
    "\n",
    "ax2.set_title(\"variance RFC\")\n",
    "ax2.set_ylim(0,0.02)\n",
    "ax2.set_xlabel(\"nombre d'arbres\")\n",
    "ax2.set_ylabel(\"variance\")\n",
    "ax2.legend(loc=0)"
   ]
  },
  {
   "cell_type": "markdown",
   "metadata": {
    "collapsed": true
   },
   "source": [
    "Le taux d'erreur a l'air de converger vers 0.40 pour l'ensemble des feuilles à mesure qu'on augmente le nombre d'arbres dans la forêt. On remarque cependant que pour 10 observations minimales par feuille, le taux d'erreur remonte lorsqu'on atteint 200 arbres dans la forêt donc il est possible que cette condition soit trop contraignante."
   ]
  },
  {
   "cell_type": "markdown",
   "metadata": {
    "collapsed": true
   },
   "source": [
    "La variance, elle, augmente avec le nombres d'arbres dans la forêt mais la différence n'est pas si grande entre 100 et 200 arbres. Il faudrait tester sur un plus grand nombre d'arbre pour voir l'évolution."
   ]
  },
  {
   "cell_type": "markdown",
   "metadata": {
    "collapsed": true
   },
   "source": [
    "### Récupération données test et prédiction finale"
   ]
  },
  {
   "cell_type": "markdown",
   "metadata": {},
   "source": [
    "On fait la prédiciton pour 400 arbres dans la forêt et 3 observations minimales par feuille.\n",
    "La différence n'est pas énorme avec les autres paramètres mais c'est en attendant de tester d'autres valeurs pour ceux-ci."
   ]
  },
  {
   "cell_type": "code",
   "execution_count": 25,
   "metadata": {},
   "outputs": [
    {
     "name": "stdout",
     "output_type": "stream",
     "text": [
      "1091.0308072566986\n"
     ]
    }
   ],
   "source": [
    "t0=time.time()\n",
    "X_train=base_train.drop(\"label\",axis=1)\n",
    "y_train=base_train[\"label\"]\n",
    "modele=ensemble.RandomForestClassifier(n_estimators=400,min_samples_leaf=3,n_jobs=2)\n",
    "modele.fit(X_train,y_train)\n",
    "t1=time.time()\n",
    "print(t1-t0)\n",
    "y_pred=modele.predict(base_test)"
   ]
  },
  {
   "cell_type": "code",
   "execution_count": 26,
   "metadata": {
    "collapsed": true
   },
   "outputs": [],
   "source": [
    "base_pred=pd.DataFrame(y_pred,columns=[\"label\"])"
   ]
  },
  {
   "cell_type": "code",
   "execution_count": 27,
   "metadata": {
    "collapsed": true
   },
   "outputs": [],
   "source": [
    "base_pred.to_csv(\"pred_400_3.csv\",index_label=\"id\",sep=\";\")"
   ]
  },
  {
   "cell_type": "code",
   "execution_count": 28,
   "metadata": {},
   "outputs": [
    {
     "data": {
      "text/plain": [
       "(0.050165112665112664,\n",
       " 0.0,\n",
       " 0.5457944832944833,\n",
       " 0.34105477855477856,\n",
       " 0.06298562548562549)"
      ]
     },
     "execution_count": 28,
     "metadata": {},
     "output_type": "execute_result"
    }
   ],
   "source": [
    "proportion_classe(base_pred)"
   ]
  },
  {
   "cell_type": "code",
   "execution_count": 30,
   "metadata": {},
   "outputs": [
    {
     "data": {
      "text/plain": [
       "(0.11268537531371207,\n",
       " 0.031006160164271046,\n",
       " 0.36821811544604155,\n",
       " 0.31439653205566964,\n",
       " 0.17369381702030573)"
      ]
     },
     "execution_count": 30,
     "metadata": {},
     "output_type": "execute_result"
    }
   ],
   "source": [
    "proportion_classe(output_train)"
   ]
  },
  {
   "cell_type": "markdown",
   "metadata": {
    "collapsed": true
   },
   "source": [
    "Si j’avais eu plus de temps :\n",
    "-\tj’aurais implémenté la métrique de Cohen Kappa\n",
    "-\tj’aurais testé d’autres modèles\n",
    "-\tj’aurais réfléchi à une meilleure manière de normaliser les données \n",
    "-   j'aurais essayer de réduire le nb de features par sous bases avec des méthodes différentes (notamment l'ACP)\n",
    "-   j'aurais exploré un peu plus profondément les distributions des variables et d'éventuelles corrélations\n"
   ]
  },
  {
   "cell_type": "code",
   "execution_count": null,
   "metadata": {
    "collapsed": true
   },
   "outputs": [],
   "source": []
  }
 ],
 "metadata": {
  "kernelspec": {
   "display_name": "Python 3",
   "language": "python",
   "name": "python3"
  },
  "language_info": {
   "codemirror_mode": {
    "name": "ipython",
    "version": 3
   },
   "file_extension": ".py",
   "mimetype": "text/x-python",
   "name": "python",
   "nbconvert_exporter": "python",
   "pygments_lexer": "ipython3",
   "version": "3.6.3"
  }
 },
 "nbformat": 4,
 "nbformat_minor": 2
}
