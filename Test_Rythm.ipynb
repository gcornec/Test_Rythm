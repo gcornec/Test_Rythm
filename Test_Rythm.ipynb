{
 "cells": [
  {
   "cell_type": "code",
   "execution_count": 1,
   "metadata": {},
   "outputs": [
    {
     "name": "stdout",
     "output_type": "stream",
     "text": [
      "Populating the interactive namespace from numpy and matplotlib\n"
     ]
    }
   ],
   "source": [
    "%pylab inline\n",
    "import pandas as pd\n",
    "import urllib\n",
    "import matplotlib.pyplot as plt\n",
    "import seaborn as sns\n",
    "import time\n",
    "import random\n",
    "import numpy as np\n",
    "\n",
    "\n",
    "from sklearn import neural_network\n",
    "from sklearn import linear_model\n",
    "from sklearn import ensemble\n",
    "from sklearn import metrics\n",
    "from sklearn import neighbors\n",
    "from sklearn import tree\n",
    "from sklearn.metrics import confusion_matrix\n",
    "from random import randrange\n",
    "import matplotlib.pyplot as plt\n",
    "import h5py\n",
    "from sklearn import preprocessing\n",
    "\n",
    "plt.style.use('bmh')\n",
    "\n",
    "#%matplotlib inline"
   ]
  },
  {
   "cell_type": "markdown",
   "metadata": {},
   "source": [
    "## Fonctions intermédiaires"
   ]
  },
  {
   "cell_type": "code",
   "execution_count": 42,
   "metadata": {
    "collapsed": true
   },
   "outputs": [],
   "source": [
    "#Foncion pour avoir la répartition des classes de label dans les données d'apprentissage\n",
    "def proportion_classe(y_train):\n",
    "    return len(y_train[y_train[\"label\"]==0])/len(y_train), len(y_train[y_train[\"label\"]==1])/len(y_train), len(y_train[y_train[\"label\"]==2])/len(y_train), len(y_train[y_train[\"label\"]==3])/len(y_train),len(y_train[y_train[\"label\"]==4])/len(y_train)"
   ]
  },
  {
   "cell_type": "code",
   "execution_count": 43,
   "metadata": {
    "collapsed": true
   },
   "outputs": [],
   "source": [
    "#Fonction pour récupérer des données à partir d'un fichier h5, d'un nom de base et d'une liste de label\n",
    "#On peut choisir de normaliser ou non ces données\n",
    "def base_recup_key(fichier,key,output_train,normalize=False):\n",
    "    \n",
    "    h5 = h5py.File(fichier, \"r\")\n",
    "    \n",
    "    if normalize==True:\n",
    "        min_max_scaler = preprocessing.MinMaxScaler()\n",
    "        inputs=pd.DataFrame(min_max_scaler.fit_transform(h5[key][:]))\n",
    "    else:\n",
    "        inputs=pd.DataFrame(h5[key][:])\n",
    "    \n",
    "    if fichier==\"train.h5\":\n",
    "        return pd.concat([inputs,output_train[\"label\"]],axis=1)\n",
    "    else:\n",
    "        return inputs"
   ]
  },
  {
   "cell_type": "code",
   "execution_count": 44,
   "metadata": {
    "collapsed": true
   },
   "outputs": [],
   "source": [
    "#Fonction pour avoir un score de précision classique à partir d'une matrice de confusion \n",
    "#et de l'échantillon de test\n",
    "#Penser à mettre le score de Cohen Kappa\n",
    "def score(cm,y_test_1):\n",
    "    score=0\n",
    "    for i in range(len(cm)):\n",
    "        for j in range(len(cm)):\n",
    "            if i!=j:\n",
    "                score+=cm[i,j]\n",
    "    return 1-score/len(y_test_1)"
   ]
  },
  {
   "cell_type": "code",
   "execution_count": 45,
   "metadata": {
    "collapsed": true
   },
   "outputs": [],
   "source": [
    "#Fonction pour faire une prédiction à partir d'un RFC sur une base et qui récupère les variables les plus \n",
    "#importantes dans la prédiction (paramètre à choisir)\n",
    "def var_importante(base,prop_train,nb_var):\n",
    "    \n",
    "    base_train=base[:int(len(base)*prop_train)]\n",
    "    base_test=base[int(len(base)*prop_train):]\n",
    "    #print(\"train\",proportion_classe(base_train))\n",
    "    #print(\"test\",proportion_classe(base_test))\n",
    "    \n",
    "    X_train=base_train.drop(\"label\",axis=1)\n",
    "    X_test=base_test.drop(\"label\",axis=1)\n",
    "    y_train=base_train[\"label\"]\n",
    "    y_test=base_test[\"label\"]\n",
    "    #print(np.shape(X_train),np.shape(X_test),np.shape(y_train),np.shape(y_test))\n",
    "\n",
    "    modele=ensemble.RandomForestClassifier(n_estimators=100,n_jobs=2)\n",
    "    modele.fit(X_train,y_train)\n",
    "    y_pred=modele.predict(X_test)\n",
    "    cm=confusion_matrix(y_test,y_pred)\n",
    "    #print(cm)\n",
    "    \n",
    "    #importance des variables \n",
    "    feature_importance = modele.feature_importances_\n",
    "    sorted_idx = np.argsort(feature_importance)[-nb_var:]\n",
    "    print(\"score\",score(cm,y_test))\n",
    "\n",
    "    return score(cm,y_test), modele ,sorted_idx"
   ]
  },
  {
   "cell_type": "code",
   "execution_count": 46,
   "metadata": {
    "collapsed": true
   },
   "outputs": [],
   "source": [
    "#Récupération des bases complète d'apprentissage et de test, réduites aux variables les plus importantes\n",
    "#grâce à la fonction précédente \n",
    "def construction_bases(list_keys,pourcentage_var,nb_obs,output_train):\n",
    "    dic_base_train={}\n",
    "    dic_base_test={}\n",
    "    \n",
    "    for k in list_keys:\n",
    "        print(k)\n",
    "    \n",
    "        b_train=base_recup_key(\"train.h5\",k,output_train)\n",
    "        v_i=var_importante(b_train[:nb_obs],0.75,int(pourcentage_var*np.shape(b_train)[1]))\n",
    "    \n",
    "        dic_base_train[k]=b_train.iloc[:,v_i[2]]\n",
    "        dic_base_test[k]=base_recup_key(\"test.h5\",k,output_train).iloc[:v_i[2]]\n",
    "\n",
    "    base_train=pd.concat([dic_base_train[k] for k in list_keys],axis=1,ignore_index=True)\n",
    "    base_test=pd.concat([dic_base_test[k] for k in list_keys],axis=1,ignore_index=True)\n",
    "    \n",
    "    return pd.concat([base_train,output_train[\"label\"]],axis=1), base_test"
   ]
  },
  {
   "cell_type": "code",
   "execution_count": 47,
   "metadata": {
    "collapsed": true
   },
   "outputs": [],
   "source": [
    "#On associe à chaque base de test sa base de train correspondante\n",
    "def CV(base,nb_CV):\n",
    "            \n",
    "    nb=int(len(base)/nb_CV)\n",
    "    separ_test=[base[i*nb:(i+1)*nb] for i in range (nb_CV)]\n",
    "\n",
    "    separ_train=[]\n",
    "    list_train=[[] for p in range(nb_CV)]\n",
    "    for i in range(nb_CV):\n",
    "        l=[j for j in range(nb_CV)]\n",
    "        l.remove(i)\n",
    "        for p in l:\n",
    "            list_train[i].append(separ_test[p])\n",
    "        separ_train.append(pd.concat(list_train[i]))\n",
    "        \n",
    "    return (separ_train,separ_test)"
   ]
  },
  {
   "cell_type": "code",
   "execution_count": 48,
   "metadata": {
    "collapsed": true
   },
   "outputs": [],
   "source": [
    "def choix_estimateur(modele, bases_CV,nb_CV, param_1,param_2):\n",
    "    l_res={}\n",
    "    for i in param_1:\n",
    "        l_res[i]={}\n",
    "        for j in param_2:\n",
    "            l_res[i][j]=[]\n",
    "    for i in range(nb_CV):\n",
    "        print(i)\n",
    "        X_train=bases_CV[0][i].drop(\"label\",axis=1)\n",
    "        y_train=bases_CV[0][i][\"label\"]\n",
    "        X_test=bases_CV[1][i].drop(\"label\",axis=1)\n",
    "        y_test=bases_CV[1][i][\"label\"]\n",
    "        print(np.shape(X_train),np.shape(X_test),np.shape(y_train),np.shape(y_test))\n",
    "\n",
    "        for j in param_1:\n",
    "            print(\"min_leaf\",j)\n",
    "            for p in param_2:\n",
    "                print(\"arbres\",p)\n",
    "                \n",
    "                mod=modele(n_estimators=p,min_samples_leaf=j,n_jobs=2)\n",
    "                    \n",
    "                t2=time.time()    \n",
    "                mod.fit(X_train,y_train)\n",
    "                y_pred=mod.predict(X_test)\n",
    "                t3=time.time()\n",
    "                print(t3-t2)\n",
    "                cm=confusion_matrix(y_test,y_pred)\n",
    "                #print(cm)\n",
    "                l_res[j][p].append(score(cm,y_test))\n",
    "    return l_res"
   ]
  },
  {
   "cell_type": "markdown",
   "metadata": {},
   "source": [
    "## Etude préalable"
   ]
  },
  {
   "cell_type": "code",
   "execution_count": 3,
   "metadata": {
    "collapsed": true
   },
   "outputs": [],
   "source": [
    "#Récupération de y_train\n",
    "output_train=pd.read_csv(\"output_training.csv\", sep=\";\")"
   ]
  },
  {
   "cell_type": "code",
   "execution_count": 4,
   "metadata": {},
   "outputs": [
    {
     "data": {
      "text/plain": [
       "(0.11268537531371207,\n",
       " 0.031006160164271046,\n",
       " 0.36821811544604155,\n",
       " 0.31439653205566964,\n",
       " 0.17369381702030573)"
      ]
     },
     "execution_count": 4,
     "metadata": {},
     "output_type": "execute_result"
    }
   ],
   "source": [
    "#il y a 11.2% de cycle 0; 3.1% de cycle 1; 36.8% de cycle 2; 31.4% de cycle 3 et 17.4% de cycle 4\n",
    "proportion_classe(output_train)"
   ]
  },
  {
   "cell_type": "markdown",
   "metadata": {},
   "source": [
    "Test de récupération de la base eeg_1."
   ]
  },
  {
   "cell_type": "code",
   "execution_count": 8,
   "metadata": {},
   "outputs": [
    {
     "name": "stdout",
     "output_type": "stream",
     "text": [
      "21.602633953094482\n"
     ]
    }
   ],
   "source": [
    "#6s pour récupérer 43 000 * 3751 data\n",
    "t0=time.time()\n",
    "eeg_1=base_recup_key(\"train.h5\",\"eeg_1\",output_train)\n",
    "t1=time.time()\n",
    "print(t1-t0)"
   ]
  },
  {
   "cell_type": "code",
   "execution_count": 9,
   "metadata": {},
   "outputs": [
    {
     "name": "stdout",
     "output_type": "stream",
     "text": [
      "score 0.556\n",
      "2.1415679454803467\n"
     ]
    }
   ],
   "source": [
    "t0=time.time()\n",
    "s_1=var_importante(eeg_1[:10000],0.75,100)\n",
    "t1=time.time()\n",
    "print(t1-t0)"
   ]
  },
  {
   "cell_type": "markdown",
   "metadata": {},
   "source": [
    "On regarde les 20 variables les plus importantes dans la prédiction du RFC sur la base eeg_1"
   ]
  },
  {
   "cell_type": "code",
   "execution_count": 10,
   "metadata": {},
   "outputs": [
    {
     "data": {
      "text/plain": [
       "Text(0.5,1,'Variable Importance')"
      ]
     },
     "execution_count": 10,
     "metadata": {},
     "output_type": "execute_result"
    },
    {
     "data": {
      "image/png": "[encoded data removed]",
      "text/plain": [
       "<matplotlib.figure.Figure at 0x1a166177f0>"
      ]
     },
     "metadata": {},
     "output_type": "display_data"
    }
   ],
   "source": [
    "feature_name = eeg_1.columns\n",
    "limit = 20\n",
    "feature_importance = s_1[1].feature_importances_[:]\n",
    "feature_importance = 100.0 * (feature_importance / feature_importance.max())\n",
    "sorted_idx = np.argsort(feature_importance)[-limit:]\n",
    "pos = np.arange(sorted_idx.shape[0]) + .5\n",
    "plt.subplot(1, 1, 1)\n",
    "plt.barh(pos, feature_importance[sorted_idx], align='center')\n",
    "plt.yticks(pos, feature_name[sorted_idx])\n",
    "plt.xlabel('Relative Importance')\n",
    "plt.title('Variable Importance')"
   ]
  },
  {
   "cell_type": "markdown",
   "metadata": {},
   "source": [
    "## Construction des bases d'apprentissage et de test"
   ]
  },
  {
   "cell_type": "code",
   "execution_count": null,
   "metadata": {
    "collapsed": true
   },
   "outputs": [],
   "source": [
    "#But: construire une base regroupant les 10% des variables les plus importantes pour la prédiction"
   ]
  },
  {
   "cell_type": "code",
   "execution_count": 11,
   "metadata": {
    "collapsed": true
   },
   "outputs": [],
   "source": [
    "list_keys=['eeg_1', 'eeg_2', 'eeg_3', 'eeg_4', 'po_ir', 'po_r', 'accelerometer_x', 'accelerometer_y', 'accelerometer_z']"
   ]
  },
  {
   "cell_type": "code",
   "execution_count": 17,
   "metadata": {},
   "outputs": [
    {
     "name": "stdout",
     "output_type": "stream",
     "text": [
      "eeg_1\n",
      "score 0.552\n",
      "eeg_2\n",
      "score 0.592\n",
      "eeg_3\n",
      "score 0.504\n",
      "eeg_4\n",
      "score 0.552\n",
      "po_ir\n",
      "score 0.308\n",
      "po_r\n",
      "score 0.28\n",
      "accelerometer_x\n",
      "score 0.28\n",
      "accelerometer_y\n",
      "score 0.392\n",
      "accelerometer_z\n",
      "score 0.288\n",
      "461.68354296684265\n"
     ]
    }
   ],
   "source": [
    "#on garde 10% des meilleures variables de la prédiction sur chaque dataset \n",
    "pourcentage_var=0.1\n",
    "#on fixe le nombre d'observation que l'on utilisera pour faire tourner notre modèle basique sur les sous bases\n",
    "nb_obs=10000\n",
    "t0=time.time()\n",
    "base_train, base_test=construction_bases(list_keys,pourcentage_var,nb_obs,output_train)\n",
    "t1=time.time()\n",
    "print(t1-t0)"
   ]
  },
  {
   "cell_type": "markdown",
   "metadata": {},
   "source": [
    "Il semblerait que les bases eeg permettent de mieux détecter les cycles du sommeil que les autres bases. Ceci di, nous n'avons pris que 10 000 observations pour entrainer un modèle basique, et il s'agissait des 10 000 premières ... \n",
    "De plus, les bases eeg contiennent 3 fois plus de variables que les autres bases donc la meilleure précision peut s'expliquer par ça "
   ]
  },
  {
   "cell_type": "code",
   "execution_count": 36,
   "metadata": {},
   "outputs": [
    {
     "name": "stdout",
     "output_type": "stream",
     "text": [
      "(43830, 2251) (20592, 2250)\n"
     ]
    }
   ],
   "source": [
    "print(np.shape(base_train),np.shape(base_test))"
   ]
  },
  {
   "cell_type": "markdown",
   "metadata": {},
   "source": [
    "## Cross validation sur les données d'apprentissage"
   ]
  },
  {
   "cell_type": "code",
   "execution_count": 33,
   "metadata": {
    "scrolled": true
   },
   "outputs": [
    {
     "name": "stdout",
     "output_type": "stream",
     "text": [
      "1000\n",
      "0\n",
      "(4000, 2250) (1000, 2250) (4000,) (1000,)\n",
      "min_leaf 1\n",
      "arbres 10\n",
      "1.469386100769043\n",
      "arbres 20\n",
      "2.489988088607788\n",
      "arbres 50\n",
      "5.74092698097229\n",
      "arbres 100\n",
      "11.961555004119873\n",
      "arbres 150\n",
      "20.179232120513916\n",
      "arbres 200\n",
      "28.155508995056152\n",
      "min_leaf 2\n",
      "arbres 10\n",
      "1.3636960983276367\n",
      "arbres 20\n",
      "2.7123351097106934\n",
      "arbres 50\n",
      "6.628135919570923\n",
      "arbres 100\n",
      "13.848039150238037\n",
      "arbres 150\n",
      "19.757500886917114\n",
      "arbres 200\n",
      "26.927057027816772\n",
      "min_leaf 3\n",
      "arbres 10\n",
      "1.562925100326538\n",
      "arbres 20\n",
      "2.624737024307251\n",
      "arbres 50\n",
      "6.649786949157715\n",
      "arbres 100\n",
      "12.695511817932129\n",
      "arbres 150\n",
      "19.540637969970703\n",
      "arbres 200\n",
      "26.016624212265015\n",
      "min_leaf 5\n",
      "arbres 10\n",
      "1.4890859127044678\n",
      "arbres 20\n",
      "2.58906888961792\n",
      "arbres 50\n",
      "5.620898246765137\n",
      "arbres 100\n",
      "11.235797882080078\n",
      "arbres 150\n",
      "16.006165981292725\n",
      "arbres 200\n",
      "22.315855264663696\n",
      "min_leaf 10\n",
      "arbres 10\n",
      "1.1549010276794434\n",
      "arbres 20\n",
      "2.0775249004364014\n",
      "arbres 50\n",
      "5.007594108581543\n",
      "arbres 100\n",
      "9.971665859222412\n",
      "arbres 150\n",
      "15.32334589958191\n",
      "arbres 200\n",
      "20.18826913833618\n",
      "1\n",
      "(4000, 2250) (1000, 2250) (4000,) (1000,)\n",
      "min_leaf 1\n",
      "arbres 10\n",
      "1.4808349609375\n",
      "arbres 20\n",
      "2.5151491165161133\n",
      "arbres 50\n",
      "6.428595066070557\n",
      "arbres 100\n",
      "12.672887086868286\n",
      "arbres 150\n",
      "19.03399682044983\n",
      "arbres 200\n",
      "25.375195264816284\n",
      "min_leaf 2\n",
      "arbres 10\n",
      "1.4621860980987549\n",
      "arbres 20\n",
      "2.6010470390319824\n",
      "arbres 50\n",
      "6.312469959259033\n",
      "arbres 100\n",
      "12.484480857849121\n",
      "arbres 150\n",
      "18.601794004440308\n",
      "arbres 200\n",
      "24.367727994918823\n",
      "min_leaf 3\n",
      "arbres 10\n",
      "1.3605990409851074\n",
      "arbres 20\n",
      "2.4845829010009766\n",
      "arbres 50\n",
      "6.030591011047363\n",
      "arbres 100\n",
      "11.816870212554932\n",
      "arbres 150\n",
      "17.842397212982178\n",
      "arbres 200\n",
      "23.964328050613403\n",
      "min_leaf 5\n",
      "arbres 10\n",
      "1.260716199874878\n",
      "arbres 20\n",
      "2.3943822383880615\n",
      "arbres 50\n",
      "6.0098490715026855\n",
      "arbres 100\n",
      "11.21117901802063\n",
      "arbres 150\n",
      "16.98960590362549\n",
      "arbres 200\n",
      "22.42741870880127\n",
      "min_leaf 10\n",
      "arbres 10\n",
      "1.0510838031768799\n",
      "arbres 20\n",
      "2.102557897567749\n",
      "arbres 50\n",
      "4.907281875610352\n",
      "arbres 100\n",
      "9.932235956192017\n",
      "arbres 150\n",
      "15.363772869110107\n",
      "arbres 200\n",
      "20.271209239959717\n",
      "2\n",
      "(4000, 2250) (1000, 2250) (4000,) (1000,)\n",
      "min_leaf 1\n",
      "arbres 10\n",
      "1.3653597831726074\n",
      "arbres 20\n",
      "2.5914969444274902\n",
      "arbres 50\n",
      "6.33197808265686\n",
      "arbres 100\n",
      "12.889159202575684\n",
      "arbres 150\n",
      "18.444380044937134\n",
      "arbres 200\n",
      "25.8955979347229\n",
      "min_leaf 2\n",
      "arbres 10\n",
      "1.4697198867797852\n",
      "arbres 20\n",
      "2.616029977798462\n",
      "arbres 50\n",
      "6.138929843902588\n",
      "arbres 100\n",
      "11.982582569122314\n",
      "arbres 150\n",
      "18.322044849395752\n",
      "arbres 200\n",
      "24.04992699623108\n",
      "min_leaf 3\n",
      "arbres 10\n",
      "1.2434155941009521\n",
      "arbres 20\n",
      "2.416710376739502\n",
      "arbres 50\n",
      "5.953803777694702\n",
      "arbres 100\n",
      "11.571521997451782\n",
      "arbres 150\n",
      "16.99448585510254\n",
      "arbres 200\n",
      "22.424100875854492\n",
      "min_leaf 5\n",
      "arbres 10\n",
      "1.154634952545166\n",
      "arbres 20\n",
      "2.305114269256592\n",
      "arbres 50\n",
      "5.330416917800903\n",
      "arbres 100\n",
      "10.339595079421997\n",
      "arbres 150\n",
      "15.559848070144653\n",
      "arbres 200\n",
      "22.095074892044067\n",
      "min_leaf 10\n",
      "arbres 10\n",
      "1.1566262245178223\n",
      "arbres 20\n",
      "2.3976731300354004\n",
      "arbres 50\n",
      "5.098237991333008\n",
      "arbres 100\n",
      "9.873920917510986\n",
      "arbres 150\n",
      "14.025418043136597\n",
      "arbres 200\n",
      "22.08806800842285\n",
      "3\n",
      "(4000, 2250) (1000, 2250) (4000,) (1000,)\n",
      "min_leaf 1\n",
      "arbres 10\n",
      "1.8726601600646973\n",
      "arbres 20\n",
      "3.0330960750579834\n",
      "arbres 50\n",
      "7.7769811153411865\n",
      "arbres 100\n",
      "15.488291025161743\n",
      "arbres 150\n",
      "18.088715076446533\n",
      "arbres 200\n",
      "24.15279269218445\n",
      "min_leaf 2\n",
      "arbres 10\n",
      "1.6739473342895508\n",
      "arbres 20\n",
      "4.448380947113037\n",
      "arbres 50\n",
      "6.846644401550293\n",
      "arbres 100\n",
      "14.666253805160522\n",
      "arbres 150\n",
      "18.56972622871399\n",
      "arbres 200\n",
      "29.008983850479126\n",
      "min_leaf 3\n",
      "arbres 10\n",
      "2.3011248111724854\n",
      "arbres 20\n",
      "3.613478899002075\n",
      "arbres 50\n",
      "6.6736228466033936\n",
      "arbres 100\n",
      "11.565520763397217\n",
      "arbres 150\n",
      "20.679643154144287\n",
      "arbres 200\n",
      "25.749284029006958\n",
      "min_leaf 5\n",
      "arbres 10\n",
      "1.1641221046447754\n",
      "arbres 20\n",
      "2.2926337718963623\n",
      "arbres 50\n",
      "5.911412000656128\n",
      "arbres 100\n",
      "10.920679807662964\n",
      "arbres 150\n",
      "19.59015703201294\n",
      "arbres 200\n",
      "21.904486894607544\n",
      "min_leaf 10\n",
      "arbres 10\n",
      "1.0552978515625\n",
      "arbres 20\n",
      "2.300232172012329\n",
      "arbres 50\n",
      "6.195909023284912\n",
      "arbres 100\n",
      "9.895617008209229\n",
      "arbres 150\n",
      "14.125900983810425\n",
      "arbres 200\n",
      "21.189940929412842\n",
      "4\n",
      "(4000, 2250) (1000, 2250) (4000,) (1000,)\n",
      "min_leaf 1\n",
      "arbres 10\n",
      "1.4549460411071777\n",
      "arbres 20\n",
      "2.7416698932647705\n",
      "arbres 50\n",
      "7.224101781845093\n",
      "arbres 100\n",
      "12.591295003890991\n",
      "arbres 150\n",
      "19.45047688484192\n",
      "arbres 200\n",
      "28.86092209815979\n",
      "min_leaf 2\n",
      "arbres 10\n",
      "1.9733479022979736\n",
      "arbres 20\n",
      "3.4607391357421875\n",
      "arbres 50\n",
      "8.02919864654541\n",
      "arbres 100\n",
      "11.624992847442627\n",
      "arbres 150\n",
      "20.06497097015381\n",
      "arbres 200\n",
      "24.772348880767822\n",
      "min_leaf 3\n",
      "arbres 10\n",
      "1.3483870029449463\n",
      "arbres 20\n",
      "2.402722120285034\n",
      "arbres 50\n",
      "5.9199559688568115\n",
      "arbres 100\n",
      "11.713387966156006\n",
      "arbres 150\n",
      "18.013943910598755\n",
      "arbres 200\n",
      "26.69121217727661\n",
      "min_leaf 5\n",
      "arbres 10\n",
      "1.2582268714904785\n",
      "arbres 20\n",
      "2.400519371032715\n",
      "arbres 50\n",
      "5.411978721618652\n",
      "arbres 100\n",
      "11.321680784225464\n",
      "arbres 150\n",
      "16.470841646194458\n",
      "arbres 200\n",
      "22.62418508529663\n",
      "min_leaf 10\n",
      "arbres 10\n",
      "1.055699110031128\n",
      "arbres 20\n",
      "2.0982279777526855\n",
      "arbres 50\n",
      "6.042016983032227\n",
      "arbres 100\n",
      "11.154127836227417\n",
      "arbres 150\n",
      "17.104642868041992\n",
      "arbres 200\n",
      "21.885422229766846\n",
      "1599.2988591194153\n"
     ]
    }
   ],
   "source": [
    "#on est sur 5000 obs et 2250 variables et on fait une CV sur 5 sous-bases\n",
    "nb_CV=5\n",
    "nb_obs=5000\n",
    "nb_tree=[10,20,50,100,150,200]\n",
    "min_leaf=[1,2,3,5,10]\n",
    "t0=time.time()\n",
    "est_RFC=choix_estimateur(ensemble.RandomForestClassifier,CV(base_train[:nb_obs],nb_CV),nb_CV,min_leaf,nb_tree)\n",
    "t1=time.time()\n",
    "print(t1-t0)\n"
   ]
  },
  {
   "cell_type": "markdown",
   "metadata": {},
   "source": [
    "On regarde de manière graphique l'influence des hyperparamètres sur la précision et la variance des prédictions"
   ]
  },
  {
   "cell_type": "code",
   "execution_count": 34,
   "metadata": {},
   "outputs": [
    {
     "data": {
      "text/plain": [
       "<matplotlib.legend.Legend at 0x1a1a8c7e48>"
      ]
     },
     "execution_count": 34,
     "metadata": {},
     "output_type": "execute_result"
    },
    {
     "data": {
      "image/png": "[encoded data removed]",
      "text/plain": [
       "<matplotlib.figure.Figure at 0x1a38961668>"
      ]
     },
     "metadata": {},
     "output_type": "display_data"
    }
   ],
   "source": [
    "fig, (ax1, ax2) = plt.subplots(1,2,figsize=(12, 5))\n",
    "\n",
    "colors=[\"red\",\"green\",\"blue\",\"orange\",\"purple\"]\n",
    "\n",
    "for j in range(len(min_leaf)):\n",
    "    ax1.plot([i for i in nb_tree],[1-np.mean(est_RFC[min_leaf[j]][i]) for i in nb_tree],color=colors[j],label=\"taux d'erreur min leaf\"+str(min_leaf[j]))\n",
    "    ax2.plot([i for i in nb_tree],[np.std(est_RFC[min_leaf[j]][i]) for i in nb_tree],color=colors[j],label=\"variance des erreurs min leaf\"+str(min_leaf[j]))\n",
    "\n",
    "\n",
    "ax1.set_title(\"erreur RFC\")\n",
    "ax1.set_ylim(0.4,0.5)\n",
    "ax1.set_xlabel(\"nombre d'arbres\")\n",
    "ax1.set_ylabel(\"erreur\")\n",
    "ax1.legend(loc=0)\n",
    "\n",
    "ax2.set_title(\"variance RFC\")\n",
    "ax2.set_ylim(0,0.1)\n",
    "ax2.set_xlabel(\"nombre d'arbres\")\n",
    "ax2.set_ylabel(\"variance\")\n",
    "ax2.legend(loc=0)"
   ]
  },
  {
   "cell_type": "markdown",
   "metadata": {
    "collapsed": true
   },
   "source": [
    "Le taux d'erreur a l'air de converger vers 0.44 pour l'ensemble des feuilles à mesure qu'on augmente le nombre d'arbres dans la forêt. On remarque cependant que pour 10 observations minimales par feuille, le taux d'erreur remonte lorsqu'on atteint 200 arbres dans la forêt donc il est possible que cette condition soit trop contraignante."
   ]
  },
  {
   "cell_type": "markdown",
   "metadata": {
    "collapsed": true
   },
   "source": [
    "La variance, elle, augmente avec le nombres d'arbres dans la forêt mais la différence n'est pas si grande entre 100 et 200 arbres. Il faudrait tester sur un plus grand nombre d'arbre pour voir l'évolution."
   ]
  },
  {
   "cell_type": "markdown",
   "metadata": {
    "collapsed": true
   },
   "source": [
    "### Récupération données test et prédiction finale"
   ]
  },
  {
   "cell_type": "markdown",
   "metadata": {},
   "source": [
    "On fait la prédiciton pour 150 arbres dans la forêt et 2 observations minimales par feuille.\n",
    "La différence n'est pas énorme avec les autres paramètres mais c'est en attendant de tester d'autres valeurs pour ceux-ci."
   ]
  },
  {
   "cell_type": "code",
   "execution_count": 38,
   "metadata": {},
   "outputs": [
    {
     "name": "stdout",
     "output_type": "stream",
     "text": [
      "315.59917521476746\n"
     ]
    }
   ],
   "source": [
    "t0=time.time()\n",
    "X_train=base_train.drop(\"label\",axis=1)\n",
    "y_train=base_train[\"label\"]\n",
    "modele=ensemble.RandomForestClassifier(n_estimators=150,min_samples_leaf=2,n_jobs=2)\n",
    "modele.fit(X_train,y_train)\n",
    "t1=time.time()\n",
    "print(t1-t0)\n",
    "y_pred=modele.predict(base_test)"
   ]
  },
  {
   "cell_type": "code",
   "execution_count": 40,
   "metadata": {
    "collapsed": true
   },
   "outputs": [],
   "source": [
    "base_pred=pd.DataFrame(y_pred,columns=[\"label\"])"
   ]
  },
  {
   "cell_type": "code",
   "execution_count": 41,
   "metadata": {
    "collapsed": true
   },
   "outputs": [],
   "source": [
    "#base_pred.to_csv(\"pred.csv\",index_label=\"id\",sep=\";\")"
   ]
  },
  {
   "cell_type": "code",
   "execution_count": null,
   "metadata": {
    "collapsed": true
   },
   "outputs": [],
   "source": []
  },
  {
   "cell_type": "markdown",
   "metadata": {
    "collapsed": true
   },
   "source": [
    "Si j’avais eu plus de temps :\n",
    "-\tj’aurais implémenté la métrique de Cohen Kappa\n",
    "-\tj’aurais testé d’autres modèles\n",
    "-\tj’aurais réfléchi à une meilleure manière de normaliser les données \n"
   ]
  },
  {
   "cell_type": "code",
   "execution_count": null,
   "metadata": {
    "collapsed": true
   },
   "outputs": [],
   "source": []
  }
 ],
 "metadata": {
  "kernelspec": {
   "display_name": "Python 3",
   "language": "python",
   "name": "python3"
  },
  "language_info": {
   "codemirror_mode": {
    "name": "ipython",
    "version": 3
   },
   "file_extension": ".py",
   "mimetype": "text/x-python",
   "name": "python",
   "nbconvert_exporter": "python",
   "pygments_lexer": "ipython3",
   "version": "3.6.3"
  }
 },
 "nbformat": 4,
 "nbformat_minor": 2
}
