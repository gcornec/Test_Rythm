{
 "cells": [
  {
   "cell_type": "code",
   "execution_count": 1,
   "metadata": {},
   "outputs": [
    {
     "name": "stdout",
     "output_type": "stream",
     "text": [
      "Populating the interactive namespace from numpy and matplotlib\n"
     ]
    }
   ],
   "source": [
    "%pylab inline\n",
    "import pandas as pd\n",
    "import urllib\n",
    "import matplotlib.pyplot as plt\n",
    "import seaborn as sns\n",
    "import time\n",
    "import random\n",
    "import numpy as np\n",
    "\n",
    "\n",
    "from sklearn import neural_network\n",
    "from sklearn import linear_model\n",
    "from sklearn import ensemble\n",
    "from sklearn import metrics\n",
    "from sklearn import neighbors\n",
    "from sklearn import tree\n",
    "from sklearn.metrics import confusion_matrix\n",
    "from random import randrange\n",
    "import matplotlib.pyplot as plt\n",
    "import h5py\n",
    "from sklearn import preprocessing\n",
    "\n",
    "plt.style.use('bmh')\n",
    "\n",
    "#%matplotlib inline"
   ]
  },
  {
   "cell_type": "markdown",
   "metadata": {},
   "source": [
    "### Chargement des données d'apprentissage "
   ]
  },
  {
   "cell_type": "code",
   "execution_count": 2,
   "metadata": {
    "collapsed": true
   },
   "outputs": [],
   "source": [
    "def proportion_classe(y_train):\n",
    "    return len(y_train[y_train[\"label\"]==0])/len(y_train), len(y_train[y_train[\"label\"]==1])/len(y_train), len(y_train[y_train[\"label\"]==2])/len(y_train), len(y_train[y_train[\"label\"]==3])/len(y_train),len(y_train[y_train[\"label\"]==4])/len(y_train)"
   ]
  },
  {
   "cell_type": "code",
   "execution_count": 3,
   "metadata": {
    "collapsed": true
   },
   "outputs": [],
   "source": [
    "#Récupération de y_train\n",
    "output_train=pd.read_csv(\"output_training.csv\", sep=\";\")"
   ]
  },
  {
   "cell_type": "code",
   "execution_count": 4,
   "metadata": {},
   "outputs": [
    {
     "data": {
      "text/plain": [
       "(0.11268537531371207,\n",
       " 0.031006160164271046,\n",
       " 0.36821811544604155,\n",
       " 0.31439653205566964,\n",
       " 0.17369381702030573)"
      ]
     },
     "execution_count": 4,
     "metadata": {},
     "output_type": "execute_result"
    }
   ],
   "source": [
    "#il y a 11.2% de cycle 0; 3.1% de cycle 1; 36.8% de cycle 2; 31.4% de cycle 3 et 17.4% de cycle 4\n",
    "proportion_classe(output_train)"
   ]
  },
  {
   "cell_type": "code",
   "execution_count": 5,
   "metadata": {
    "collapsed": true
   },
   "outputs": [],
   "source": [
    "def base_recup_key(fichier,key,output_train,normalize=False):\n",
    "    \n",
    "    h5 = h5py.File(fichier, \"r\")\n",
    "    \n",
    "    if normalize==True:\n",
    "        min_max_scaler = preprocessing.MinMaxScaler()\n",
    "        input_train=min_max_scaler.fit_transform(h5[key][:])\n",
    "    else:\n",
    "        input_train=pd.DataFrame(h5[key][:])\n",
    "\n",
    "    base_train=pd.concat([input_train,output_train[\"label\"]],axis=1)\n",
    "    #print(np.shape(base_train))\n",
    "    \n",
    "    return base_train"
   ]
  },
  {
   "cell_type": "code",
   "execution_count": 6,
   "metadata": {
    "collapsed": true
   },
   "outputs": [],
   "source": [
    "def score(cm,y_test_1):\n",
    "    score=0\n",
    "    for i in range(len(cm)):\n",
    "        for j in range(len(cm)):\n",
    "            if i!=j:\n",
    "                score+=cm[i,j]\n",
    "    return 1-score/len(y_test_1)"
   ]
  },
  {
   "cell_type": "code",
   "execution_count": 7,
   "metadata": {
    "collapsed": true
   },
   "outputs": [],
   "source": [
    "def var_importante(base,prop_train,nb_var):\n",
    "    \n",
    "    base_train=base[:int(len(base)*prop_train)]\n",
    "    base_test=base[int(len(base)*prop_train):]\n",
    "    print(\"train\",proportion_classe(base_train))\n",
    "    print(\"test\",proportion_classe(base_test))\n",
    "    \n",
    "    X_train=base_train.drop(\"label\",axis=1)\n",
    "    X_test=base_test.drop(\"label\",axis=1)\n",
    "    y_train=base_train[\"label\"]\n",
    "    y_test=base_test[\"label\"]\n",
    "    print(np.shape(X_train),np.shape(X_test),np.shape(y_train),np.shape(y_test))\n",
    "\n",
    "    modele=ensemble.RandomForestClassifier(n_estimators=100,n_jobs=2)\n",
    "    modele.fit(X_train,y_train)\n",
    "    y_pred=modele.predict(X_test)\n",
    "    cm=confusion_matrix(y_test,y_pred)\n",
    "    #print(cm)\n",
    "    \n",
    "    #importance des variables \n",
    "    feature_importance = modele.feature_importances_\n",
    "    sorted_idx = np.argsort(feature_importance)[-nb_var:]\n",
    "    print(\"score\",score(cm,y_test))\n",
    "\n",
    "    return score(cm,y_test),modele ,sorted_idx"
   ]
  },
  {
   "cell_type": "code",
   "execution_count": 8,
   "metadata": {},
   "outputs": [
    {
     "name": "stdout",
     "output_type": "stream",
     "text": [
      "5.18175482749939\n"
     ]
    }
   ],
   "source": [
    "#6s pour récupérer 43 000 * 3751 data\n",
    "t0=time.time()\n",
    "eeg_1=base_recup_key(\"train.h5\",\"eeg_1\",output_train)\n",
    "t1=time.time()\n",
    "print(t1-t0)"
   ]
  },
  {
   "cell_type": "code",
   "execution_count": 12,
   "metadata": {},
   "outputs": [
    {
     "data": {
      "text/plain": [
       "375.1"
      ]
     },
     "execution_count": 12,
     "metadata": {},
     "output_type": "execute_result"
    }
   ],
   "source": [
    "np.shape(eeg_1)[1]*0.1"
   ]
  },
  {
   "cell_type": "code",
   "execution_count": 10,
   "metadata": {},
   "outputs": [
    {
     "name": "stdout",
     "output_type": "stream",
     "text": [
      "train (0.07466666666666667, 0.02266666666666667, 0.23733333333333334, 0.368, 0.29733333333333334)\n",
      "test (0.176, 0.084, 0.216, 0.52, 0.004)\n",
      "(750, 3750) (250, 3750) (750,) (250,)\n",
      "score 0.548\n",
      "2.058682680130005\n"
     ]
    }
   ],
   "source": [
    "t0=time.time()\n",
    "s_1=var_importante(eeg_1[:1000],0.75,100)\n",
    "t1=time.time()\n",
    "print(t1-t0)"
   ]
  },
  {
   "cell_type": "code",
   "execution_count": null,
   "metadata": {},
   "outputs": [],
   "source": [
    "feature_name = eeg_1.columns\n",
    "limit = 20\n",
    "feature_importance = s_1[1].feature_importances_[:]\n",
    "feature_importance = 100.0 * (feature_importance / feature_importance.max())\n",
    "sorted_idx = np.argsort(feature_importance)[-limit:]\n",
    "pos = np.arange(sorted_idx.shape[0]) + .5\n",
    "plt.subplot(1, 1, 1)\n",
    "plt.barh(pos, feature_importance[sorted_idx], align='center')\n",
    "plt.yticks(pos, feature_name[sorted_idx])\n",
    "plt.xlabel('Relative Importance')\n",
    "plt.title('Variable Importance')"
   ]
  },
  {
   "cell_type": "markdown",
   "metadata": {},
   "source": [
    "### Identification des variables importantes pour chaque base"
   ]
  },
  {
   "cell_type": "code",
   "execution_count": null,
   "metadata": {
    "collapsed": true
   },
   "outputs": [],
   "source": [
    "#But: construire une base regroupant les 900 variables les plus importantes"
   ]
  },
  {
   "cell_type": "code",
   "execution_count": 15,
   "metadata": {
    "collapsed": true
   },
   "outputs": [],
   "source": [
    "list_keys=['eeg_1', 'eeg_2', 'eeg_3', 'eeg_4', 'po_ir', 'po_r', 'accelerometer_x', 'accelerometer_y', 'accelerometer_z']"
   ]
  },
  {
   "cell_type": "code",
   "execution_count": 13,
   "metadata": {},
   "outputs": [],
   "source": [
    "def construction_base(list_keys,pourcentage_var,nb_obs,output_train):\n",
    "    dic_base={}\n",
    "    for k in list_keys:\n",
    "        print(k)\n",
    "        b=base_recup_key(\"train.h5\",k,output_train)\n",
    "        v_i=var_importante(b[:nb_obs],0.75,int(pourcentage_var*np.shape(b)[1]))\n",
    "        dic_base[k]=b.iloc[:,v_i[2]]\n",
    "\n",
    "    base_finale=pd.concat([dic_base[k] for k in list_keys],axis=1,ignore_index=True)\n",
    "    \n",
    "    return pd.concat([base_finale,output_train[\"label\"]],axis=1)\n",
    "    "
   ]
  },
  {
   "cell_type": "code",
   "execution_count": 18,
   "metadata": {},
   "outputs": [
    {
     "name": "stdout",
     "output_type": "stream",
     "text": [
      "eeg_1\n",
      "train (0.07253333333333334, 0.03626666666666667, 0.3661333333333333, 0.3232, 0.20186666666666667)\n",
      "test (0.1728, 0.0208, 0.392, 0.2584, 0.156)\n",
      "(3750, 3750) (1250, 3750) (3750,) (1250,)\n",
      "score 0.5016\n",
      "eeg_2\n",
      "train (0.07253333333333334, 0.03626666666666667, 0.3661333333333333, 0.3232, 0.20186666666666667)\n",
      "test (0.1728, 0.0208, 0.392, 0.2584, 0.156)\n",
      "(3750, 3750) (1250, 3750) (3750,) (1250,)\n",
      "score 0.516\n",
      "eeg_3\n",
      "train (0.07253333333333334, 0.03626666666666667, 0.3661333333333333, 0.3232, 0.20186666666666667)\n",
      "test (0.1728, 0.0208, 0.392, 0.2584, 0.156)\n",
      "(3750, 3750) (1250, 3750) (3750,) (1250,)\n",
      "score 0.4064\n",
      "eeg_4\n",
      "train (0.07253333333333334, 0.03626666666666667, 0.3661333333333333, 0.3232, 0.20186666666666667)\n",
      "test (0.1728, 0.0208, 0.392, 0.2584, 0.156)\n",
      "(3750, 3750) (1250, 3750) (3750,) (1250,)\n",
      "score 0.4552\n",
      "po_ir\n",
      "train (0.07253333333333334, 0.03626666666666667, 0.3661333333333333, 0.3232, 0.20186666666666667)\n",
      "test (0.1728, 0.0208, 0.392, 0.2584, 0.156)\n",
      "(3750, 1500) (1250, 1500) (3750,) (1250,)\n",
      "score 0.2608\n",
      "po_r\n",
      "train (0.07253333333333334, 0.03626666666666667, 0.3661333333333333, 0.3232, 0.20186666666666667)\n",
      "test (0.1728, 0.0208, 0.392, 0.2584, 0.156)\n",
      "(3750, 1500) (1250, 1500) (3750,) (1250,)\n",
      "score 0.3672\n",
      "accelerometer_x\n",
      "train (0.07253333333333334, 0.03626666666666667, 0.3661333333333333, 0.3232, 0.20186666666666667)\n",
      "test (0.1728, 0.0208, 0.392, 0.2584, 0.156)\n",
      "(3750, 1500) (1250, 1500) (3750,) (1250,)\n",
      "score 0.412\n",
      "accelerometer_y\n",
      "train (0.07253333333333334, 0.03626666666666667, 0.3661333333333333, 0.3232, 0.20186666666666667)\n",
      "test (0.1728, 0.0208, 0.392, 0.2584, 0.156)\n",
      "(3750, 1500) (1250, 1500) (3750,) (1250,)\n",
      "score 0.2776\n",
      "accelerometer_z\n",
      "train (0.07253333333333334, 0.03626666666666667, 0.3661333333333333, 0.3232, 0.20186666666666667)\n",
      "test (0.1728, 0.0208, 0.392, 0.2584, 0.156)\n",
      "(3750, 1500) (1250, 1500) (3750,) (1250,)\n",
      "score 0.3144\n",
      "312.53235507011414\n"
     ]
    }
   ],
   "source": [
    "#on garde 10% des meilleures variables de la prédiction sur chaque dataset \n",
    "pourcentage_var=0.1\n",
    "#il s'agit du nb d'observations pour faire tourner le modèle sur chaque sous-base\n",
    "nb_obs=5000\n",
    "t0=time.time()\n",
    "base_train=construction_base(list_keys,pourcentage_var,nb_obs,output_train)\n",
    "t1=time.time()\n",
    "print(t1-t0)"
   ]
  },
  {
   "cell_type": "code",
   "execution_count": 19,
   "metadata": {},
   "outputs": [
    {
     "data": {
      "text/html": [
       "<div>\n",
       "<style>\n",
       "    .dataframe thead tr:only-child th {\n",
       "        text-align: right;\n",
       "    }\n",
       "\n",
       "    .dataframe thead th {\n",
       "        text-align: left;\n",
       "    }\n",
       "\n",
       "    .dataframe tbody tr th {\n",
       "        vertical-align: top;\n",
       "    }\n",
       "</style>\n",
       "<table border=\"1\" class=\"dataframe\">\n",
       "  <thead>\n",
       "    <tr style=\"text-align: right;\">\n",
       "      <th></th>\n",
       "      <th>0</th>\n",
       "      <th>1</th>\n",
       "      <th>2</th>\n",
       "      <th>3</th>\n",
       "      <th>4</th>\n",
       "      <th>5</th>\n",
       "      <th>6</th>\n",
       "      <th>7</th>\n",
       "      <th>8</th>\n",
       "      <th>9</th>\n",
       "      <th>...</th>\n",
       "      <th>2241</th>\n",
       "      <th>2242</th>\n",
       "      <th>2243</th>\n",
       "      <th>2244</th>\n",
       "      <th>2245</th>\n",
       "      <th>2246</th>\n",
       "      <th>2247</th>\n",
       "      <th>2248</th>\n",
       "      <th>2249</th>\n",
       "      <th>label</th>\n",
       "    </tr>\n",
       "  </thead>\n",
       "  <tbody>\n",
       "    <tr>\n",
       "      <th>0</th>\n",
       "      <td>3.049927</td>\n",
       "      <td>-11.093723</td>\n",
       "      <td>-4.177071</td>\n",
       "      <td>19.371773</td>\n",
       "      <td>-22.776264</td>\n",
       "      <td>17.928631</td>\n",
       "      <td>-19.091215</td>\n",
       "      <td>-10.968331</td>\n",
       "      <td>-9.259424</td>\n",
       "      <td>-12.380516</td>\n",
       "      <td>...</td>\n",
       "      <td>0.000018</td>\n",
       "      <td>-0.000180</td>\n",
       "      <td>0.000391</td>\n",
       "      <td>0.000223</td>\n",
       "      <td>-0.000125</td>\n",
       "      <td>0.000035</td>\n",
       "      <td>0.000203</td>\n",
       "      <td>0.000315</td>\n",
       "      <td>-0.000174</td>\n",
       "      <td>0</td>\n",
       "    </tr>\n",
       "    <tr>\n",
       "      <th>1</th>\n",
       "      <td>-37.433933</td>\n",
       "      <td>3.758461</td>\n",
       "      <td>-3.054089</td>\n",
       "      <td>-29.163702</td>\n",
       "      <td>47.254265</td>\n",
       "      <td>-8.906521</td>\n",
       "      <td>-13.863186</td>\n",
       "      <td>1.052138</td>\n",
       "      <td>-1.555163</td>\n",
       "      <td>-29.062410</td>\n",
       "      <td>...</td>\n",
       "      <td>0.000289</td>\n",
       "      <td>0.000119</td>\n",
       "      <td>-0.000204</td>\n",
       "      <td>-0.000023</td>\n",
       "      <td>0.000025</td>\n",
       "      <td>-0.000006</td>\n",
       "      <td>-0.000019</td>\n",
       "      <td>0.000158</td>\n",
       "      <td>0.000020</td>\n",
       "      <td>0</td>\n",
       "    </tr>\n",
       "    <tr>\n",
       "      <th>2</th>\n",
       "      <td>-9.764781</td>\n",
       "      <td>-27.430002</td>\n",
       "      <td>2.551445</td>\n",
       "      <td>-12.432044</td>\n",
       "      <td>-12.063060</td>\n",
       "      <td>28.940365</td>\n",
       "      <td>12.601622</td>\n",
       "      <td>-24.994949</td>\n",
       "      <td>-18.387829</td>\n",
       "      <td>-13.569963</td>\n",
       "      <td>...</td>\n",
       "      <td>0.000239</td>\n",
       "      <td>-0.000352</td>\n",
       "      <td>0.000053</td>\n",
       "      <td>0.000005</td>\n",
       "      <td>0.000299</td>\n",
       "      <td>0.000022</td>\n",
       "      <td>0.000007</td>\n",
       "      <td>0.000072</td>\n",
       "      <td>0.000292</td>\n",
       "      <td>0</td>\n",
       "    </tr>\n",
       "    <tr>\n",
       "      <th>3</th>\n",
       "      <td>-3.914347</td>\n",
       "      <td>2.692587</td>\n",
       "      <td>79.888214</td>\n",
       "      <td>-556.506653</td>\n",
       "      <td>-40.213840</td>\n",
       "      <td>-42.984577</td>\n",
       "      <td>180.308090</td>\n",
       "      <td>194.375656</td>\n",
       "      <td>-48.523567</td>\n",
       "      <td>843.039246</td>\n",
       "      <td>...</td>\n",
       "      <td>-0.000059</td>\n",
       "      <td>0.012904</td>\n",
       "      <td>0.020396</td>\n",
       "      <td>0.006740</td>\n",
       "      <td>-0.006698</td>\n",
       "      <td>0.006905</td>\n",
       "      <td>0.006763</td>\n",
       "      <td>-0.010783</td>\n",
       "      <td>-0.005100</td>\n",
       "      <td>0</td>\n",
       "    </tr>\n",
       "    <tr>\n",
       "      <th>4</th>\n",
       "      <td>48.261055</td>\n",
       "      <td>-151.069962</td>\n",
       "      <td>102.285561</td>\n",
       "      <td>2.079795</td>\n",
       "      <td>-24.304810</td>\n",
       "      <td>-64.906761</td>\n",
       "      <td>231.104996</td>\n",
       "      <td>-77.054688</td>\n",
       "      <td>46.936745</td>\n",
       "      <td>-8.382654</td>\n",
       "      <td>...</td>\n",
       "      <td>0.000209</td>\n",
       "      <td>-0.000187</td>\n",
       "      <td>0.000141</td>\n",
       "      <td>-0.000164</td>\n",
       "      <td>0.000013</td>\n",
       "      <td>-0.000082</td>\n",
       "      <td>-0.000155</td>\n",
       "      <td>-0.000420</td>\n",
       "      <td>-0.000054</td>\n",
       "      <td>0</td>\n",
       "    </tr>\n",
       "  </tbody>\n",
       "</table>\n",
       "<p>5 rows × 2251 columns</p>\n",
       "</div>"
      ],
      "text/plain": [
       "           0           1           2           3          4          5  \\\n",
       "0   3.049927  -11.093723   -4.177071   19.371773 -22.776264  17.928631   \n",
       "1 -37.433933    3.758461   -3.054089  -29.163702  47.254265  -8.906521   \n",
       "2  -9.764781  -27.430002    2.551445  -12.432044 -12.063060  28.940365   \n",
       "3  -3.914347    2.692587   79.888214 -556.506653 -40.213840 -42.984577   \n",
       "4  48.261055 -151.069962  102.285561    2.079795 -24.304810 -64.906761   \n",
       "\n",
       "            6           7          8           9  ...        2241      2242  \\\n",
       "0  -19.091215  -10.968331  -9.259424  -12.380516  ...    0.000018 -0.000180   \n",
       "1  -13.863186    1.052138  -1.555163  -29.062410  ...    0.000289  0.000119   \n",
       "2   12.601622  -24.994949 -18.387829  -13.569963  ...    0.000239 -0.000352   \n",
       "3  180.308090  194.375656 -48.523567  843.039246  ...   -0.000059  0.012904   \n",
       "4  231.104996  -77.054688  46.936745   -8.382654  ...    0.000209 -0.000187   \n",
       "\n",
       "       2243      2244      2245      2246      2247      2248      2249  label  \n",
       "0  0.000391  0.000223 -0.000125  0.000035  0.000203  0.000315 -0.000174      0  \n",
       "1 -0.000204 -0.000023  0.000025 -0.000006 -0.000019  0.000158  0.000020      0  \n",
       "2  0.000053  0.000005  0.000299  0.000022  0.000007  0.000072  0.000292      0  \n",
       "3  0.020396  0.006740 -0.006698  0.006905  0.006763 -0.010783 -0.005100      0  \n",
       "4  0.000141 -0.000164  0.000013 -0.000082 -0.000155 -0.000420 -0.000054      0  \n",
       "\n",
       "[5 rows x 2251 columns]"
      ]
     },
     "execution_count": 19,
     "metadata": {},
     "output_type": "execute_result"
    }
   ],
   "source": [
    "base_train.head()"
   ]
  },
  {
   "cell_type": "code",
   "execution_count": 21,
   "metadata": {},
   "outputs": [
    {
     "data": {
      "text/plain": [
       "(43830, 2251)"
      ]
     },
     "execution_count": 21,
     "metadata": {},
     "output_type": "execute_result"
    }
   ],
   "source": [
    "np.shape(base_train)"
   ]
  },
  {
   "cell_type": "code",
   "execution_count": null,
   "metadata": {
    "collapsed": true
   },
   "outputs": [],
   "source": []
  },
  {
   "cell_type": "code",
   "execution_count": null,
   "metadata": {
    "collapsed": true
   },
   "outputs": [],
   "source": []
  },
  {
   "cell_type": "code",
   "execution_count": null,
   "metadata": {
    "collapsed": true
   },
   "outputs": [],
   "source": []
  },
  {
   "cell_type": "code",
   "execution_count": null,
   "metadata": {
    "collapsed": true
   },
   "outputs": [],
   "source": []
  },
  {
   "cell_type": "code",
   "execution_count": null,
   "metadata": {
    "collapsed": true
   },
   "outputs": [],
   "source": []
  },
  {
   "cell_type": "markdown",
   "metadata": {},
   "source": [
    "### Récupération des 10 000 premières lignes (à jeter aussi mais refaire le truc pour récupérer data test)"
   ]
  },
  {
   "cell_type": "code",
   "execution_count": null,
   "metadata": {
    "collapsed": true
   },
   "outputs": [],
   "source": [
    "# La représentation est assez fidèles \n",
    "proportion_classe(output_train[:10000])"
   ]
  },
  {
   "cell_type": "code",
   "execution_count": null,
   "metadata": {
    "collapsed": true
   },
   "outputs": [],
   "source": [
    "np.concatenate?"
   ]
  },
  {
   "cell_type": "code",
   "execution_count": null,
   "metadata": {
    "collapsed": true
   },
   "outputs": [],
   "source": [
    "def base_recup(fichier,num_depart,num_final,nb_var,output_train,normalize=True):\n",
    "    dic_train={}\n",
    "    h5 = h5py.File(fichier, \"r\")\n",
    "    min_max_scaler = preprocessing.MinMaxScaler()\n",
    "    for k in list_keys:\n",
    "        t2=time.time()\n",
    "        print(k)\n",
    "        if normalize==True:\n",
    "            dic_train[k]=min_max_scaler.fit_transform(h5[k][num_depart:num_final,:nb_var])\n",
    "        else:\n",
    "            dic_train[k]=h5[k][num_depart:num_final,:nb_var]\n",
    "        t3=time.time()\n",
    "        print(t3-t2)\n",
    "        print(np.shape(dic_train[k]))\n",
    "    X_train=pd.DataFrame(np.concatenate([dic_train[k] for k in list_keys],axis=1))\n",
    "    t4=time.time()\n",
    "    print(t4-t3)\n",
    "    #print(np.shape(X_train))\n",
    "    if fichier=='train.h5':\n",
    "        #print(y_train[num_depart:num_final][\"label\"].reset_index())\n",
    "        base_train=pd.concat([X_train,output_train[\"label\"][num_depart:num_final].reset_index()],axis=1)\n",
    "        return base_train.sample(frac=1).reset_index().drop([\"index\",\"level_0\"],axis=1)\n",
    "    else:\n",
    "        return X_train\n",
    "        \n",
    "    #print(np.shape(base_train))\n",
    "    \n",
    "    #return base_train.sample(frac=1).reset_index().drop([\"index\",\"level_0\"],axis=1)"
   ]
  },
  {
   "cell_type": "code",
   "execution_count": null,
   "metadata": {},
   "outputs": [],
   "source": [
    "#on récupère une sous_base de 10 000 observations \n",
    "#par contre on récupère les 10 000 premières ...\n",
    "t0=time.time()\n",
    "base_1=base_recup('train.h5',0,1000,100,output_train,normalize=False)\n",
    "t1=time.time()\n",
    "print(t1-t0)"
   ]
  },
  {
   "cell_type": "code",
   "execution_count": null,
   "metadata": {},
   "outputs": [],
   "source": [
    "base_1.tail()"
   ]
  },
  {
   "cell_type": "code",
   "execution_count": null,
   "metadata": {
    "collapsed": true
   },
   "outputs": [],
   "source": []
  },
  {
   "cell_type": "code",
   "execution_count": null,
   "metadata": {
    "collapsed": true
   },
   "outputs": [],
   "source": []
  },
  {
   "cell_type": "markdown",
   "metadata": {},
   "source": [
    "### Cross validation"
   ]
  },
  {
   "cell_type": "code",
   "execution_count": 22,
   "metadata": {
    "collapsed": true
   },
   "outputs": [],
   "source": [
    "#On associe à chaque base de test sa base de train correspondante\n",
    "def CV(base,nb_CV):\n",
    "            \n",
    "    nb=int(len(base)/nb_CV)\n",
    "    print(nb)\n",
    "    separ_test=[base[i*nb:(i+1)*nb] for i in range (nb_CV)]\n",
    "    #print(len(separ_test))\n",
    "\n",
    "    separ_train=[]\n",
    "    list_train=[[] for p in range(nb_CV)]\n",
    "    for i in range(nb_CV):\n",
    "        l=[j for j in range(nb_CV)]\n",
    "        l.remove(i)\n",
    "        #print(l)\n",
    "        for p in l:\n",
    "            list_train[i].append(separ_test[p])\n",
    "        separ_train.append(pd.concat(list_train[i]))\n",
    "        \n",
    "    return (separ_train,separ_test)"
   ]
  },
  {
   "cell_type": "code",
   "execution_count": 23,
   "metadata": {
    "collapsed": true
   },
   "outputs": [],
   "source": [
    "def choix_estimateur(modele, bases_CV,nb_CV, param_1,param_2, RFC=True,LR=False):\n",
    "    l_res={}\n",
    "    for i in param_1:\n",
    "        l_res[i]={}\n",
    "        for j in param_2:\n",
    "            l_res[i][j]=[]\n",
    "    for i in range(nb_CV):\n",
    "        print(i)\n",
    "        X_train=bases_CV[0][i].drop(\"label\",axis=1)\n",
    "        y_train=bases_CV[0][i][\"label\"]\n",
    "        X_test=bases_CV[1][i].drop(\"label\",axis=1)\n",
    "        y_test=bases_CV[1][i][\"label\"]\n",
    "        print(np.shape(X_train),np.shape(X_test),np.shape(y_train),np.shape(y_test))\n",
    "\n",
    "        for j in param_1:\n",
    "            print(j)\n",
    "            for p in param_2:\n",
    "                print(p)\n",
    "                if RFC==True:\n",
    "                    mod=modele(n_estimators=j,min_samples_leaf=p,n_jobs=2)\n",
    "\n",
    "                elif LR==True:\n",
    "                    mod=modele(solver=j)\n",
    "                else:\n",
    "                    mod=modele(n_neighbors=j)\n",
    "                t2=time.time()    \n",
    "                mod=mod.fit(X_train,y_train)\n",
    "                y_pred=mod.predict(X_test)\n",
    "                t3=time.time()\n",
    "                print(t3-t2)\n",
    "                cm=confusion_matrix(y_test,y_pred)\n",
    "                #print(cm)\n",
    "                l_res[j][p].append(score(cm,y_test))\n",
    "    return l_res"
   ]
  },
  {
   "cell_type": "code",
   "execution_count": null,
   "metadata": {
    "scrolled": true
   },
   "outputs": [
    {
     "name": "stdout",
     "output_type": "stream",
     "text": [
      "1000\n",
      "0\n",
      "(4000, 2250) (1000, 2250) (4000,) (1000,)\n",
      "20\n",
      "1\n",
      "2.5938820838928223\n",
      "2\n",
      "2.2902731895446777\n",
      "3\n",
      "2.202880859375\n",
      "5\n",
      "2.0884180068969727\n",
      "50\n",
      "1\n",
      "5.627327919006348\n",
      "2\n",
      "5.317632675170898\n",
      "3\n",
      "5.322713136672974\n",
      "5\n",
      "5.4130308628082275\n",
      "100\n",
      "1\n",
      "12.465969800949097\n",
      "2\n",
      "11.082095861434937\n",
      "3\n",
      "10.425899982452393\n",
      "5\n",
      "10.563969612121582\n",
      "150\n",
      "1\n",
      "17.609516143798828\n",
      "2\n",
      "17.79293179512024\n",
      "3\n",
      "16.793725967407227\n",
      "5\n",
      "16.85985279083252\n",
      "200\n",
      "1\n",
      "25.8250150680542\n",
      "2\n",
      "24.596960067749023\n",
      "3\n",
      "22.89516592025757\n",
      "5\n",
      "23.57281994819641\n",
      "1\n",
      "(4000, 2250) (1000, 2250) (4000,) (1000,)\n",
      "20\n",
      "1\n",
      "3.225529909133911\n",
      "2\n",
      "2.8044958114624023\n",
      "3\n",
      "2.4144208431243896\n",
      "5\n",
      "2.3125360012054443\n",
      "50\n",
      "1\n",
      "7.199557065963745\n",
      "2\n",
      "6.23526406288147\n",
      "3\n",
      "5.829571008682251\n",
      "5\n",
      "5.524724960327148\n",
      "100\n",
      "1\n",
      "12.609413146972656\n",
      "2\n",
      "12.320431232452393\n",
      "3\n",
      "11.128785133361816\n",
      "5\n",
      "10.724411964416504\n",
      "150\n",
      "1\n",
      "20.3857421875\n",
      "2\n",
      "18.008984088897705\n",
      "3\n",
      "16.892704963684082\n",
      "5\n",
      "16.280193090438843\n",
      "200\n",
      "1\n",
      "23.756004095077515\n",
      "2\n",
      "22.828533172607422\n",
      "3\n",
      "23.950608015060425\n",
      "5\n",
      "22.110790967941284\n",
      "2\n",
      "(4000, 2250) (1000, 2250) (4000,) (1000,)\n",
      "20\n",
      "1\n",
      "2.41556978225708\n",
      "2\n",
      "2.389430046081543\n",
      "3\n",
      "2.1975228786468506\n",
      "5\n",
      "2.511140823364258\n",
      "50\n",
      "1\n",
      "6.569029331207275\n",
      "2\n",
      "5.708701133728027\n",
      "3\n",
      "6.105859994888306\n",
      "5\n",
      "5.009282112121582\n",
      "100\n",
      "1\n",
      "12.46645188331604\n",
      "2\n",
      "11.587954998016357\n",
      "3\n",
      "11.315829753875732\n",
      "5\n",
      "10.17789602279663\n",
      "150\n",
      "1\n",
      "20.68050980567932\n",
      "2\n",
      "18.606020212173462\n",
      "3\n",
      "16.306451082229614\n",
      "5\n",
      "16.827157020568848\n",
      "200\n",
      "1\n",
      "24.32394504547119\n",
      "2\n",
      "27.62028694152832\n",
      "3\n",
      "23.96410298347473\n",
      "5\n",
      "20.790410041809082\n",
      "3\n",
      "(4000, 2250) (1000, 2250) (4000,) (1000,)\n",
      "20\n",
      "1\n",
      "2.503187894821167\n",
      "2\n",
      "2.4015138149261475\n",
      "3\n",
      "2.38742995262146\n",
      "5\n",
      "2.4073281288146973\n",
      "50\n",
      "1\n",
      "5.913341045379639\n",
      "2\n",
      "5.627143144607544\n",
      "3\n",
      "5.322279930114746\n",
      "5\n",
      "5.108440160751343\n",
      "100\n",
      "1\n",
      "12.060975074768066\n",
      "2\n",
      "11.685305118560791\n",
      "3\n",
      "10.928317070007324\n",
      "5\n",
      "11.25178599357605\n",
      "150\n",
      "1\n",
      "18.349485874176025\n",
      "2\n",
      "18.54474902153015\n",
      "3\n",
      "16.67189908027649\n",
      "5\n",
      "19.975335836410522\n",
      "200\n",
      "1\n",
      "26.396698236465454\n",
      "2\n",
      "26.89114284515381\n",
      "3\n",
      "21.94808006286621\n",
      "5\n",
      "23.95304822921753\n",
      "4\n",
      "(4000, 2250) (1000, 2250) (4000,) (1000,)\n",
      "20\n",
      "1\n",
      "3.022679090499878\n",
      "2\n",
      "2.410322904586792\n",
      "3\n",
      "2.6044578552246094\n",
      "5\n",
      "2.5368058681488037\n",
      "50\n",
      "1\n",
      "6.043041706085205\n",
      "2\n",
      "5.735802173614502\n",
      "3\n",
      "5.316572904586792\n",
      "5\n",
      "5.109508275985718\n",
      "100\n",
      "1\n",
      "11.902683973312378\n",
      "2\n",
      "12.170902013778687\n",
      "3\n",
      "13.182514190673828\n",
      "5\n",
      "11.87247896194458\n",
      "150\n",
      "1\n",
      "17.94503879547119\n",
      "2\n",
      "17.817357063293457\n",
      "3\n",
      "18.325001001358032\n",
      "5\n",
      "16.045423984527588\n",
      "200\n",
      "1\n",
      "25.111979007720947\n",
      "2\n"
     ]
    }
   ],
   "source": [
    "#on est sur 5000 obs et 2250 variables et on fait une CV sur 5 sous-bases\n",
    "nb_tree=[20,50,100,150,200]\n",
    "min_leaf=[1,2,3,5]\n",
    "t0=time.time()\n",
    "est_RFC=choix_estimateur(ensemble.RandomForestClassifier,CV(base_train[:5000],5),5,nb_tree,min_leaf)\n",
    "t1=time.time()\n",
    "print(t1-t0)\n"
   ]
  },
  {
   "cell_type": "code",
   "execution_count": null,
   "metadata": {},
   "outputs": [],
   "source": [
    "#faire de beaux graphiques\n",
    "\n",
    "fig, (ax1, ax2) = plt.subplots(1,2,figsize=(10, 5))\n",
    "\n",
    "colors=[\"red\",\"green\",\"blue\",\"orange\"]\n",
    "\n",
    "#ax1.plot(,[1-np.mean(est_RFC_900_var[i]) for i in nb_tree],color=\"green\",label=\"taux d'erreur 900 var\")\n",
    "ax1.plot([i for i in nb_tree],[1-np.mean(est_RFC_9000_var[i][min_leaf[j]]) for i in nb_tree],color=colors[j],label=\"taux d'erreur min leaf\"+str(i))\n",
    "ax2.plot([i for i in nb_tree],[np.std(est_RFC_9000_var[i][min_leaf[j]]) for i in nb_tree],color=colors[j],label=\"variance des erreurs min leaf\"+str(i))\n",
    "\n",
    "\n",
    "ax1.set_title(\"erreur RFC\")\n",
    "ax1.set_ylim(0.3,0.5)\n",
    "ax1.set_xlabel(\"nombre d'arbres\")\n",
    "ax1.set_ylabel(\"erreur\")\n",
    "ax1.legend(loc=0)\n",
    "\n",
    "ax2.set_title(\"variance RFC\")\n",
    "ax2.set_ylim(0,0.2)\n",
    "ax2.set_xlabel(\"nombre d'arbres\")\n",
    "ax2.set_ylabel(\"variance\")\n",
    "ax2.legend(loc=0)"
   ]
  },
  {
   "cell_type": "code",
   "execution_count": null,
   "metadata": {
    "collapsed": true
   },
   "outputs": [],
   "source": []
  },
  {
   "cell_type": "code",
   "execution_count": null,
   "metadata": {
    "collapsed": true
   },
   "outputs": [],
   "source": []
  },
  {
   "cell_type": "code",
   "execution_count": null,
   "metadata": {
    "collapsed": true
   },
   "outputs": [],
   "source": []
  },
  {
   "cell_type": "code",
   "execution_count": null,
   "metadata": {
    "collapsed": true
   },
   "outputs": [],
   "source": []
  },
  {
   "cell_type": "code",
   "execution_count": null,
   "metadata": {
    "collapsed": true
   },
   "outputs": [],
   "source": []
  },
  {
   "cell_type": "code",
   "execution_count": null,
   "metadata": {
    "collapsed": true
   },
   "outputs": [],
   "source": []
  },
  {
   "cell_type": "code",
   "execution_count": null,
   "metadata": {
    "collapsed": true
   },
   "outputs": [],
   "source": []
  },
  {
   "cell_type": "markdown",
   "metadata": {
    "collapsed": true
   },
   "source": [
    "### Récupération données test et prédiction finale"
   ]
  },
  {
   "cell_type": "code",
   "execution_count": null,
   "metadata": {
    "collapsed": true
   },
   "outputs": [],
   "source": [
    "t0=time.time()\n",
    "data_test=base_recup(\"test.h5\",0,20592,output_train,normalize=False)\n",
    "t1=time.time()\n",
    "print(t1-t0)"
   ]
  },
  {
   "cell_type": "code",
   "execution_count": null,
   "metadata": {
    "collapsed": true
   },
   "outputs": [],
   "source": [
    "np.shape(data_test)"
   ]
  },
  {
   "cell_type": "code",
   "execution_count": null,
   "metadata": {
    "collapsed": true
   },
   "outputs": [],
   "source": [
    "#PB: si je fais comme ça, j'applique différentes normalisations aux dataset ...\n",
    "#t0=time.time\n",
    "#bases_comp=[]\n",
    "#for i in range(10):\n",
    "#    print(i)\n",
    "#    bases_comp.append(base_recup(\"train.h5\",i*4383, (i+1)*4383,output_train,normalize=False))\n",
    "##base_complete=pd.concat(bases_comp,axis=0)\n",
    "#\n"
   ]
  },
  {
   "cell_type": "code",
   "execution_count": null,
   "metadata": {
    "collapsed": true
   },
   "outputs": [],
   "source": [
    "t0=time.time()\n",
    "base_complete=base_recup(\"train.h5\",5000,25000,output_train,normalize=False)\n",
    "t1=time.time()\n",
    "print(t1-t0)"
   ]
  },
  {
   "cell_type": "code",
   "execution_count": null,
   "metadata": {
    "collapsed": true
   },
   "outputs": [],
   "source": [
    "base_complete.head()"
   ]
  },
  {
   "cell_type": "code",
   "execution_count": null,
   "metadata": {
    "collapsed": true
   },
   "outputs": [],
   "source": [
    "t0=time.time()\n",
    "X_train=base_complete.drop(\"label\",axis=1)\n",
    "y_train=base_complete[\"label\"]\n",
    "modele=ensemble.RandomForestClassifier(n_estimators=200)\n",
    "modele.fit(X_train,y_train)\n",
    "t1=time.time()\n",
    "print(t1-t0)\n",
    "y_pred=modele.predict(data_test)"
   ]
  },
  {
   "cell_type": "code",
   "execution_count": null,
   "metadata": {
    "collapsed": true
   },
   "outputs": [],
   "source": [
    "#Créer un csv avec le résultat\n",
    "y_pred"
   ]
  },
  {
   "cell_type": "code",
   "execution_count": null,
   "metadata": {
    "collapsed": true
   },
   "outputs": [],
   "source": [
    "base_pred=pd.DataFrame(y_pred,columns=[\"label\"])"
   ]
  },
  {
   "cell_type": "code",
   "execution_count": null,
   "metadata": {
    "collapsed": true
   },
   "outputs": [],
   "source": [
    "#base_pred.to_csv(\"pred_2.csv\",index_label=\"id\",sep=\";\")"
   ]
  },
  {
   "cell_type": "code",
   "execution_count": null,
   "metadata": {
    "collapsed": true
   },
   "outputs": [],
   "source": []
  },
  {
   "cell_type": "code",
   "execution_count": null,
   "metadata": {
    "collapsed": true
   },
   "outputs": [],
   "source": []
  },
  {
   "cell_type": "markdown",
   "metadata": {},
   "source": [
    "### Comparaison avec d'anciennes prédictions "
   ]
  },
  {
   "cell_type": "code",
   "execution_count": null,
   "metadata": {
    "collapsed": true
   },
   "outputs": [],
   "source": [
    "base_pred_1=pd.read_csv(\"pred_1.csv\",sep=\";\")"
   ]
  },
  {
   "cell_type": "code",
   "execution_count": null,
   "metadata": {
    "collapsed": true
   },
   "outputs": [],
   "source": [
    "base_pred_1.head()"
   ]
  },
  {
   "cell_type": "code",
   "execution_count": null,
   "metadata": {
    "collapsed": true
   },
   "outputs": [],
   "source": [
    "base_pred_1[\"diff\"]=base_pred_1[\"label\"]-base_pred[\"label\"]"
   ]
  },
  {
   "cell_type": "code",
   "execution_count": null,
   "metadata": {
    "collapsed": true
   },
   "outputs": [],
   "source": [
    "len(base_pred_1[base_pred_1[\"diff\"]==0])"
   ]
  },
  {
   "cell_type": "code",
   "execution_count": null,
   "metadata": {
    "collapsed": true
   },
   "outputs": [],
   "source": []
  }
 ],
 "metadata": {
  "kernelspec": {
   "display_name": "Python 3",
   "language": "python",
   "name": "python3"
  },
  "language_info": {
   "codemirror_mode": {
    "name": "ipython",
    "version": 3
   },
   "file_extension": ".py",
   "mimetype": "text/x-python",
   "name": "python",
   "nbconvert_exporter": "python",
   "pygments_lexer": "ipython3",
   "version": "3.6.3"
  }
 },
 "nbformat": 4,
 "nbformat_minor": 2
}
